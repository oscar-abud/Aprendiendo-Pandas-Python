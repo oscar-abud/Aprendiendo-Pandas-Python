{
 "cells": [
  {
   "cell_type": "markdown",
   "id": "6e226b00",
   "metadata": {},
   "source": [
    "1. El primer paso es importar la libreria de pandas a en Python"
   ]
  },
  {
   "cell_type": "code",
   "execution_count": null,
   "id": "53247294",
   "metadata": {},
   "outputs": [],
   "source": [
    "import pandas as pd"
   ]
  },
  {
   "cell_type": "markdown",
   "id": "3aed3626",
   "metadata": {},
   "source": [
    "2. Métodos más utilizados/vistos en clases"
   ]
  },
  {
   "cell_type": "code",
   "execution_count": null,
   "id": "52569039",
   "metadata": {},
   "outputs": [],
   "source": [
    "\"\"\"\n",
    "Para leer archivos de Excel con extensión .xlsxb\n",
    "\"\"\"\n"
   ]
  }
 ],
 "metadata": {
  "language_info": {
   "name": "python"
  }
 },
 "nbformat": 4,
 "nbformat_minor": 5
}
