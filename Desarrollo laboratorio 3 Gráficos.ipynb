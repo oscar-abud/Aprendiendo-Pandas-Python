{
 "cells": [
  {
   "cell_type": "markdown",
   "metadata": {
    "id": "xOobbUyQ1Gcp"
   },
   "source": [
    "# Gráficos"
   ]
  },
  {
   "cell_type": "markdown",
   "metadata": {
    "id": "CyxBrTfM0fl7"
   },
   "source": [
    "## Objetivos:"
   ]
  },
  {
   "cell_type": "markdown",
   "metadata": {
    "id": "SecOQfVP0mA9"
   },
   "source": [
    "Representar variables estadísticas mediante gráficos adecuados según su clasificación y realizar análisis de la información presentada."
   ]
  },
  {
   "cell_type": "markdown",
   "metadata": {
    "id": "b-4eiQ2K04sv"
   },
   "source": [
    "*Nota: Este laboratorio está diseñado para desarrollar razonamiento estadístico. Evita el uso de herramientas de IA para responder las preguntas a menos que esto sea explícitamente sugerido* 🤖. *En su lugar, enfócate en aplicar los conceptos revisados.*"
   ]
  },
  {
   "cell_type": "markdown",
   "metadata": {
    "id": "GF6_K6jHQA1z"
   },
   "source": [
    "## Contexto actividades 1, 2 y 3:"
   ]
  },
  {
   "cell_type": "markdown",
   "metadata": {
    "id": "BcwQToS6QEs7"
   },
   "source": [
    "Una empresa consultora en tecnología desea realizar un estudio exploratorio sobre el perfil de profesionales del área de Tecnologías de la Información (TI). Para ello, recolectó datos de 100.000 trabajadores del sector, incluyendo su edad, ocupación y el lenguaje de programación que utilizan principalmente en su trabajo diario.\n",
    "\n",
    "Como analista de datos, te han encargado generar representaciones gráficas que permitan visualizar esta información de manera clara, elegir los tipos de gráficos más adecuados según las variables involucradas e interpretar los resultados para apoyar la toma de decisiones de la empresa.\n",
    "\n",
    "**Utiliza la siguiente base de datos para responder las actividades 1, 2 y 3.**\n",
    "\n",
    "Descarga la base de datos **<a href=\"https://docs.google.com/spreadsheets/d/1-oqPhxbNrN3c4BFQjTn_TgMrD67djWEW/export?format=xlsx\n",
    "\">aquí</a>**."
   ]
  },
  {
   "cell_type": "markdown",
   "metadata": {
    "id": "MOPpj52P1Jto"
   },
   "source": [
    "### Actividad 1"
   ]
  },
  {
   "cell_type": "markdown",
   "metadata": {
    "id": "kK4zvRwpU8Rj"
   },
   "source": [
    "1. Identifica la población y la muestra del estudio."
   ]
  },
  {
   "cell_type": "code",
   "execution_count": null,
   "metadata": {},
   "outputs": [],
   "source": [
    "#La población es estudio son todos los profesionales del área de TI\n",
    "#La muestra son los 100.000 profesionales del área de Tecnologías de la Información"
   ]
  },
  {
   "cell_type": "markdown",
   "metadata": {
    "id": "ZId1fOBocbFT"
   },
   "source": [
    "2. Importa la base de datos y muestra las primeras 5 filas y las últimas 5 filas del DataFrame."
   ]
  },
  {
   "cell_type": "code",
   "execution_count": 1,
   "metadata": {},
   "outputs": [
    {
     "data": {
      "text/html": [
       "<div>\n",
       "<style scoped>\n",
       "    .dataframe tbody tr th:only-of-type {\n",
       "        vertical-align: middle;\n",
       "    }\n",
       "\n",
       "    .dataframe tbody tr th {\n",
       "        vertical-align: top;\n",
       "    }\n",
       "\n",
       "    .dataframe thead th {\n",
       "        text-align: right;\n",
       "    }\n",
       "</style>\n",
       "<table border=\"1\" class=\"dataframe\">\n",
       "  <thead>\n",
       "    <tr style=\"text-align: right;\">\n",
       "      <th></th>\n",
       "      <th>Nombre</th>\n",
       "      <th>Edad</th>\n",
       "      <th>Ocupación</th>\n",
       "      <th>Dirección</th>\n",
       "      <th>Lenguaje de programación</th>\n",
       "    </tr>\n",
       "  </thead>\n",
       "  <tbody>\n",
       "    <tr>\n",
       "      <th>0</th>\n",
       "      <td>rPVcXhHW</td>\n",
       "      <td>37</td>\n",
       "      <td>Ingeniero de Redes</td>\n",
       "      <td>New York, Australia</td>\n",
       "      <td>Python</td>\n",
       "    </tr>\n",
       "    <tr>\n",
       "      <th>1</th>\n",
       "      <td>LOPiglaS</td>\n",
       "      <td>32</td>\n",
       "      <td>Programador</td>\n",
       "      <td>Paris, Australia</td>\n",
       "      <td>Python</td>\n",
       "    </tr>\n",
       "    <tr>\n",
       "      <th>2</th>\n",
       "      <td>cKGfSRhy</td>\n",
       "      <td>39</td>\n",
       "      <td>Programador</td>\n",
       "      <td>London, France</td>\n",
       "      <td>Python</td>\n",
       "    </tr>\n",
       "    <tr>\n",
       "      <th>3</th>\n",
       "      <td>akthsxrW</td>\n",
       "      <td>46</td>\n",
       "      <td>Ingeniero de Redes</td>\n",
       "      <td>New York, Japan</td>\n",
       "      <td>Python</td>\n",
       "    </tr>\n",
       "    <tr>\n",
       "      <th>4</th>\n",
       "      <td>GyDdqUfu</td>\n",
       "      <td>32</td>\n",
       "      <td>Desarrollador Web</td>\n",
       "      <td>Sydney, Japan</td>\n",
       "      <td>JavaScript</td>\n",
       "    </tr>\n",
       "    <tr>\n",
       "      <th>...</th>\n",
       "      <td>...</td>\n",
       "      <td>...</td>\n",
       "      <td>...</td>\n",
       "      <td>...</td>\n",
       "      <td>...</td>\n",
       "    </tr>\n",
       "    <tr>\n",
       "      <th>99995</th>\n",
       "      <td>TiQuVnNa</td>\n",
       "      <td>32</td>\n",
       "      <td>Científico de Datos</td>\n",
       "      <td>Paris, UK</td>\n",
       "      <td>C#</td>\n",
       "    </tr>\n",
       "    <tr>\n",
       "      <th>99996</th>\n",
       "      <td>LHUuDXLU</td>\n",
       "      <td>29</td>\n",
       "      <td>Científico de Datos</td>\n",
       "      <td>Paris, France</td>\n",
       "      <td>JavaScript</td>\n",
       "    </tr>\n",
       "    <tr>\n",
       "      <th>99997</th>\n",
       "      <td>cJYYCToX</td>\n",
       "      <td>37</td>\n",
       "      <td>Desarrollador Web</td>\n",
       "      <td>Tokyo, Japan</td>\n",
       "      <td>Python</td>\n",
       "    </tr>\n",
       "    <tr>\n",
       "      <th>99998</th>\n",
       "      <td>dZUckDFp</td>\n",
       "      <td>32</td>\n",
       "      <td>Desarrollador Web</td>\n",
       "      <td>New York, UK</td>\n",
       "      <td>Python</td>\n",
       "    </tr>\n",
       "    <tr>\n",
       "      <th>99999</th>\n",
       "      <td>qtejPzNu</td>\n",
       "      <td>34</td>\n",
       "      <td>Desarrollador Web</td>\n",
       "      <td>Sydney, Germany</td>\n",
       "      <td>Python</td>\n",
       "    </tr>\n",
       "  </tbody>\n",
       "</table>\n",
       "<p>100000 rows × 5 columns</p>\n",
       "</div>"
      ],
      "text/plain": [
       "         Nombre  Edad            Ocupación            Dirección  \\\n",
       "0      rPVcXhHW    37   Ingeniero de Redes  New York, Australia   \n",
       "1      LOPiglaS    32          Programador     Paris, Australia   \n",
       "2      cKGfSRhy    39          Programador       London, France   \n",
       "3      akthsxrW    46   Ingeniero de Redes      New York, Japan   \n",
       "4      GyDdqUfu    32    Desarrollador Web        Sydney, Japan   \n",
       "...         ...   ...                  ...                  ...   \n",
       "99995  TiQuVnNa    32  Científico de Datos            Paris, UK   \n",
       "99996  LHUuDXLU    29  Científico de Datos        Paris, France   \n",
       "99997  cJYYCToX    37    Desarrollador Web         Tokyo, Japan   \n",
       "99998  dZUckDFp    32    Desarrollador Web         New York, UK   \n",
       "99999  qtejPzNu    34    Desarrollador Web      Sydney, Germany   \n",
       "\n",
       "      Lenguaje de programación  \n",
       "0                       Python  \n",
       "1                       Python  \n",
       "2                       Python  \n",
       "3                       Python  \n",
       "4                   JavaScript  \n",
       "...                        ...  \n",
       "99995                       C#  \n",
       "99996               JavaScript  \n",
       "99997                   Python  \n",
       "99998                   Python  \n",
       "99999                   Python  \n",
       "\n",
       "[100000 rows x 5 columns]"
      ]
     },
     "execution_count": 1,
     "metadata": {},
     "output_type": "execute_result"
    }
   ],
   "source": [
    "import pandas as pd\n",
    "actividad = pd.read_excel('BDActividad_1_2_3L3.xlsx')\n",
    "actividad"
   ]
  },
  {
   "cell_type": "markdown",
   "metadata": {
    "id": "BfDI3uuDVVd8"
   },
   "source": [
    "3. ¿Cuál es la clasificación de la variable *Ocupación*? ¿Qué tipo de gráfico es el más adecuado para este tipo de variable?"
   ]
  },
  {
   "cell_type": "code",
   "execution_count": 2,
   "metadata": {},
   "outputs": [
    {
     "data": {
      "text/plain": [
       "array(['Ingeniero de Redes', 'Programador', 'Desarrollador Web',\n",
       "       'Administrador de Base de datos', 'Científico de Datos',\n",
       "       'Administrador de Sistemas'], dtype=object)"
      ]
     },
     "execution_count": 2,
     "metadata": {},
     "output_type": "execute_result"
    }
   ],
   "source": [
    "actividad['Ocupación'].unique()\n",
    "#Ocupación: variable cualitativa nominal\n",
    "#El tipo de gráfico más adecuado para la variable 'Ocupación' es el gráfico de barras,\n",
    "#porque podemos utilizar la frecuencia absoluta para contar cuántos profesionales de \n",
    "#cada tipo hay. \n"
   ]
  },
  {
   "cell_type": "markdown",
   "metadata": {
    "id": "5C6TgIW3bizY"
   },
   "source": [
    "4. Construye una tabla de frecuencias relativas para la variable *Ocupación* y luego visualízala mediante un gráfico circular."
   ]
  },
  {
   "cell_type": "code",
   "execution_count": 5,
   "metadata": {},
   "outputs": [
    {
     "data": {
      "text/html": [
       "<div>\n",
       "<style scoped>\n",
       "    .dataframe tbody tr th:only-of-type {\n",
       "        vertical-align: middle;\n",
       "    }\n",
       "\n",
       "    .dataframe tbody tr th {\n",
       "        vertical-align: top;\n",
       "    }\n",
       "\n",
       "    .dataframe thead th {\n",
       "        text-align: right;\n",
       "    }\n",
       "</style>\n",
       "<table border=\"1\" class=\"dataframe\">\n",
       "  <thead>\n",
       "    <tr style=\"text-align: right;\">\n",
       "      <th></th>\n",
       "      <th>Frecuencia</th>\n",
       "      <th>Frecuencia relativa (%)</th>\n",
       "      <th>Frecuencia acumulada</th>\n",
       "      <th>Frecuencia relativa acumulada</th>\n",
       "    </tr>\n",
       "    <tr>\n",
       "      <th>Ocupación</th>\n",
       "      <th></th>\n",
       "      <th></th>\n",
       "      <th></th>\n",
       "      <th></th>\n",
       "    </tr>\n",
       "  </thead>\n",
       "  <tbody>\n",
       "    <tr>\n",
       "      <th>Programador</th>\n",
       "      <td>25826</td>\n",
       "      <td>25.826</td>\n",
       "      <td>25826</td>\n",
       "      <td>25.826</td>\n",
       "    </tr>\n",
       "    <tr>\n",
       "      <th>Ingeniero de Redes</th>\n",
       "      <td>24154</td>\n",
       "      <td>24.154</td>\n",
       "      <td>49980</td>\n",
       "      <td>49.980</td>\n",
       "    </tr>\n",
       "    <tr>\n",
       "      <th>Desarrollador Web</th>\n",
       "      <td>21420</td>\n",
       "      <td>21.420</td>\n",
       "      <td>71400</td>\n",
       "      <td>71.400</td>\n",
       "    </tr>\n",
       "    <tr>\n",
       "      <th>Administrador de Base de datos</th>\n",
       "      <td>11838</td>\n",
       "      <td>11.838</td>\n",
       "      <td>83238</td>\n",
       "      <td>83.238</td>\n",
       "    </tr>\n",
       "    <tr>\n",
       "      <th>Científico de Datos</th>\n",
       "      <td>10174</td>\n",
       "      <td>10.174</td>\n",
       "      <td>93412</td>\n",
       "      <td>93.412</td>\n",
       "    </tr>\n",
       "    <tr>\n",
       "      <th>Administrador de Sistemas</th>\n",
       "      <td>6588</td>\n",
       "      <td>6.588</td>\n",
       "      <td>100000</td>\n",
       "      <td>100.000</td>\n",
       "    </tr>\n",
       "  </tbody>\n",
       "</table>\n",
       "</div>"
      ],
      "text/plain": [
       "                                Frecuencia  Frecuencia relativa (%)  \\\n",
       "Ocupación                                                             \n",
       "Programador                          25826                   25.826   \n",
       "Ingeniero de Redes                   24154                   24.154   \n",
       "Desarrollador Web                    21420                   21.420   \n",
       "Administrador de Base de datos       11838                   11.838   \n",
       "Científico de Datos                  10174                   10.174   \n",
       "Administrador de Sistemas             6588                    6.588   \n",
       "\n",
       "                                Frecuencia acumulada  \\\n",
       "Ocupación                                              \n",
       "Programador                                    25826   \n",
       "Ingeniero de Redes                             49980   \n",
       "Desarrollador Web                              71400   \n",
       "Administrador de Base de datos                 83238   \n",
       "Científico de Datos                            93412   \n",
       "Administrador de Sistemas                     100000   \n",
       "\n",
       "                                Frecuencia relativa acumulada  \n",
       "Ocupación                                                      \n",
       "Programador                                            25.826  \n",
       "Ingeniero de Redes                                     49.980  \n",
       "Desarrollador Web                                      71.400  \n",
       "Administrador de Base de datos                         83.238  \n",
       "Científico de Datos                                    93.412  \n",
       "Administrador de Sistemas                             100.000  "
      ]
     },
     "execution_count": 5,
     "metadata": {},
     "output_type": "execute_result"
    }
   ],
   "source": [
    "import pandas as pd\n",
    "\n",
    "frecuencia = actividad['Ocupación'].value_counts()\n",
    "frecuencia_relativa = frecuencia/frecuencia.sum() * 100\n",
    "frecuencia_acumulada = frecuencia.cumsum()\n",
    "frecuencia_relativa_acumulada = frecuencia_relativa.cumsum() \n",
    "\n",
    "tabla_frecuencias = pd.DataFrame({\n",
    "  'Frecuencia': frecuencia,\n",
    "   'Frecuencia relativa (%)': frecuencia_relativa,\n",
    "   'Frecuencia acumulada': frecuencia_acumulada,\n",
    "   'Frecuencia relativa acumulada': frecuencia_relativa_acumulada \n",
    "})\n",
    "tabla_frecuencias"
   ]
  },
  {
   "cell_type": "code",
   "execution_count": 6,
   "metadata": {},
   "outputs": [
    {
     "data": {
      "image/png": "[encoded data removed]",
      "text/plain": [
       "<Figure size 600x400 with 1 Axes>"
      ]
     },
     "metadata": {},
     "output_type": "display_data"
    }
   ],
   "source": [
    "#Biblioteca\n",
    "import matplotlib.pyplot as plt\n",
    "\n",
    "#Variables\n",
    "categorias_ocup = tabla_frecuencias.index  #Indices de la tabla 1\n",
    "h_ocup = tabla_frecuencias['Frecuencia relativa (%)']\n",
    "\n",
    "#Gráfico\n",
    "fig,ax = plt.subplots(figsize = (6,4))\n",
    "circular_ocup = ax.pie(h_ocup, labels = categorias_ocup, autopct= '%.1f%%')\n",
    "\n",
    "#Personalización\n",
    "ax.set_title('Distribución de trabajadores por ocupación')\n",
    "\n",
    "plt.show()"
   ]
  },
  {
   "cell_type": "markdown",
   "metadata": {
    "id": "-x0Nn526y6Q5"
   },
   "source": [
    "5. ¿Cuál es la ocupación más común en esta base de datos? ¿A qué piensas que se debe?"
   ]
  },
  {
   "cell_type": "markdown",
   "metadata": {
    "id": "oNCkYK_Q0gbn"
   },
   "source": [
    "6. En el rol de analista de datos, ¿qué decisiones podrías tomar basándote en los resultados obtenidos?"
   ]
  },
  {
   "cell_type": "markdown",
   "metadata": {
    "id": "lbQZoGg6Ec0w"
   },
   "source": [
    "### Actividad 2"
   ]
  },
  {
   "cell_type": "markdown",
   "metadata": {
    "id": "ULCfoxbEEk24"
   },
   "source": [
    "Para responder esta actividad considera la base de datos entregada en la celda **Contexto actividades 1, 2 y 3**."
   ]
  },
  {
   "cell_type": "markdown",
   "metadata": {
    "id": "hMrZshj8E_bb"
   },
   "source": [
    "1. ¿Cuál es la clasificación de la variable *Lenguaje de programación*? *Puedes volver a consultar la base de datos con funciones como head() o tail()*"
   ]
  },
  {
   "cell_type": "markdown",
   "metadata": {
    "id": "QPDotOQoFU22"
   },
   "source": [
    "2. Crea una tabla que muestre las frecuencias absolutas y relativas de esta variable. Luego, visualiza apropiadamente la distribución de trabajadores según el lenguaje de programación más utilizado en su trabajo e interpreta lo observado."
   ]
  },
  {
   "cell_type": "markdown",
   "metadata": {
    "id": "LFpgTXndPUC9"
   },
   "source": [
    "3. ¿Qué conclusiones podrías sacar si este gráfico reflejara resultados de una encuesta nacional?"
   ]
  },
  {
   "cell_type": "markdown",
   "metadata": {
    "id": "oZ50yLv7R3NB"
   },
   "source": [
    "### Actividad 3"
   ]
  },
  {
   "cell_type": "markdown",
   "metadata": {
    "id": "52Wy8nuxTplL"
   },
   "source": [
    "Para responder esta actividad considera la base de datos entregada en la celda **Contexto actividades 1, 2 y 3**."
   ]
  },
  {
   "cell_type": "markdown",
   "metadata": {
    "id": "PAjRseaTSbXr"
   },
   "source": [
    "1. ¿Cuál es la clasificación de la variable *Edad* ? Justifica tu respuesta."
   ]
  },
  {
   "cell_type": "markdown",
   "metadata": {
    "id": "eMQhnIZkTlFR"
   },
   "source": [
    "2. Construye una tabla de frecuencias absolutas y relativas (puntuales y acumuladas) para la variable *Edad*, considera 10 intervalos."
   ]
  },
  {
   "cell_type": "markdown",
   "metadata": {
    "id": "CgejGTobZ-h5"
   },
   "source": [
    "3. Interpreta las siguientes frecuencias:\n",
    "\n",
    "$\\hspace{1cm} f_{4}$:\n",
    "\n",
    "$\\hspace{1cm} F_{4}$:\n",
    "\n",
    "$\\hspace{1cm} h_{6}$:\n",
    "\n",
    "$\\hspace{1cm} H_{6}$:"
   ]
  },
  {
   "cell_type": "markdown",
   "metadata": {
    "id": "TavLdJyIbU06"
   },
   "source": [
    "4. Construye un gráfico apropiado para la variable *Edad* y justifica su elección. Luego, interpreta la mayor y menor frecuencia, y el rango del  histograma."
   ]
  },
  {
   "cell_type": "markdown",
   "metadata": {
    "id": "6II6PeYBkraJ"
   },
   "source": [
    "5. ¿Qué conclusiones puedes sacar del gráfico?"
   ]
  },
  {
   "cell_type": "markdown",
   "metadata": {
    "id": "vyBdoiiloEs_"
   },
   "source": [
    "6. ¿Qué decisiones podrías tomar si estuvieras reclutando talento para un proyecto de largo plazo?"
   ]
  },
  {
   "cell_type": "markdown",
   "metadata": {
    "id": "c4Br9Aygpjgn"
   },
   "source": [
    "## Actividad 4"
   ]
  },
  {
   "cell_type": "markdown",
   "metadata": {
    "id": "pdaWS5W_qv7z"
   },
   "source": [
    "La siguiente base de datos contiene información correspondiente al año 2017 para todos los países del mundo. Incluye el número de habitantes, la cantidad de usuarios de internet y el continente al que pertenece cada país.\n",
    "\n",
    "Para responder las siguientes preguntas, descarga la base de datos **<a href=\"https://drive.google.com/uc?export=download&id=1s5Cm1m6xnZhAEqLVuwRba-RrPPX4ueOW\n",
    "\">aquí</a>**."
   ]
  },
  {
   "cell_type": "markdown",
   "metadata": {
    "id": "AyKm1jlyvI9s"
   },
   "source": [
    "1. Identifique la población y la muestra en estudio."
   ]
  },
  {
   "cell_type": "markdown",
   "metadata": {
    "id": "upev5Yg_SErZ"
   },
   "source": [
    "2. Muestra las primeras 5 filas y las últimas 5 filas del DataFrame."
   ]
  },
  {
   "cell_type": "markdown",
   "metadata": {
    "id": "ZKkzUz5pvN-h"
   },
   "source": [
    "3. Identifica y clasifica las variables de la base de datos."
   ]
  },
  {
   "cell_type": "markdown",
   "metadata": {
    "id": "V9OzrwgivWxh"
   },
   "source": [
    "4. Crea una tabla de frecuencias absolutas y relativas que muestre la distribución de países por continente. Luego, construye un gráfico circular con las frecuencias relativas y uno de barras con las frecuencias absolutas de la tabla."
   ]
  },
  {
   "cell_type": "markdown",
   "metadata": {
    "id": "DQfWmgJVvehl"
   },
   "source": [
    "5. ¿Qué aspectos le llaman la atención en estos gráficos? Describe por lo menos 3 aspectos."
   ]
  },
  {
   "cell_type": "markdown",
   "metadata": {
    "id": "HgPiyIgWvjLO"
   },
   "source": [
    "6. ¿Cuáles son los 10 países con mayor población? Construye un gráfico de barras considerando estos países y su cantidad de habitantes en porcentaje del total de la población mundial. Comenta lo observado."
   ]
  },
  {
   "cell_type": "markdown",
   "metadata": {
    "id": "4j4diA8FvrpY"
   },
   "source": [
    "7. ¿En qué continente el porcentaje de personas que usa internet, respecto al total de su población, es el más alto? ¿Y en cuál es el más bajo? Conversa con tus compañeros, planifiquen una estrategia, y respondan las preguntas justificando su respuesta."
   ]
  },
  {
   "cell_type": "markdown",
   "metadata": {
    "id": "GbiPY0YMvyXD"
   },
   "source": [
    "8. Construye un gráfico apropiado para la tabla creada en el inciso anterior."
   ]
  },
  {
   "cell_type": "markdown",
   "metadata": {
    "id": "TDxNH66awB2u"
   },
   "source": [
    "9. Calcula el porcentaje de personas que usa internet en cada país y clasifícalos en 9 intervalos. Luego, construye un histograma que muestre la distribución de países según ese porcentaje. ¿Qué observas?"
   ]
  }
 ],
 "metadata": {
  "colab": {
   "authorship_tag": "ABX9TyMf87qDh7oelaqGutaMXgDD",
   "collapsed_sections": [
    "MOPpj52P1Jto",
    "lbQZoGg6Ec0w",
    "oZ50yLv7R3NB",
    "c4Br9Aygpjgn"
   ],
   "provenance": [
    {
     "file_id": "1dDw_PkE3tRtT42h5U5Jp9maX2NH3YMwN",
     "timestamp": 1748051670071
    }
   ],
   "toc_visible": true
  },
  "kernelspec": {
   "display_name": "base",
   "language": "python",
   "name": "python3"
  },
  "language_info": {
   "codemirror_mode": {
    "name": "ipython",
    "version": 3
   },
   "file_extension": ".py",
   "mimetype": "text/x-python",
   "name": "python",
   "nbconvert_exporter": "python",
   "pygments_lexer": "ipython3",
   "version": "3.11.5"
  }
 },
 "nbformat": 4,
 "nbformat_minor": 0
}
