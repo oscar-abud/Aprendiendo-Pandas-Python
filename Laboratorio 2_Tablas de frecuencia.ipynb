{
 "cells": [
  {
   "cell_type": "markdown",
   "metadata": {
    "id": "dwyz6jkxT-15"
   },
   "source": [
    "# Tablas de frecuencias"
   ]
  },
  {
   "cell_type": "code",
   "execution_count": 11,
   "metadata": {},
   "outputs": [],
   "source": [
    "# Importamos pandas\n",
    "import pandas as pd"
   ]
  },
  {
   "cell_type": "markdown",
   "metadata": {
    "id": "bDWXW90cUHNn"
   },
   "source": [
    "## Objetivos:"
   ]
  },
  {
   "cell_type": "markdown",
   "metadata": {
    "id": "OV9ck-zuUbp7"
   },
   "source": [
    "Aplicar el análisis de frecuencias en distintas variables según su clasificación e interpretar los resultados."
   ]
  },
  {
   "cell_type": "markdown",
   "metadata": {
    "id": "Yk31d_dnUu9-"
   },
   "source": [
    "*Nota: Este laboratorio está diseñado para desarrollar razonamiento estadístico. Evita el uso de herramientas de IA para responder las preguntas a menos que esto sea explícitamente sugerido* 🤖. *En su lugar, enfócate en aplicar los conceptos revisados.*"
   ]
  },
  {
   "cell_type": "markdown",
   "metadata": {
    "id": "YjIwdec0U9p8"
   },
   "source": [
    "## Actividad 1"
   ]
  },
  {
   "cell_type": "markdown",
   "metadata": {
    "id": "tXzTGb-aU_4j"
   },
   "source": [
    "Netflix es una de las plataformas de streaming más populares del mundo. En esta actividad, trabajarás con una base de datos real de títulos disponibles en Netflix. El objetivo es explorar algunas características del contenido y observar qué tan comunes son ciertos tipos de programas o películas.\n",
    "\n",
    "Descarga la base de datos <a href=\"https://docs.google.com/spreadsheets/d/1E9w_qc7U09eaEcybEw08SOB5-JuIvSlM/export?format=xlsx\">aquí</a> y responde las siguientes preguntas:"
   ]
  },
  {
   "cell_type": "code",
   "execution_count": 12,
   "metadata": {},
   "outputs": [
    {
     "data": {
      "text/html": [
       "<div>\n",
       "<style scoped>\n",
       "    .dataframe tbody tr th:only-of-type {\n",
       "        vertical-align: middle;\n",
       "    }\n",
       "\n",
       "    .dataframe tbody tr th {\n",
       "        vertical-align: top;\n",
       "    }\n",
       "\n",
       "    .dataframe thead th {\n",
       "        text-align: right;\n",
       "    }\n",
       "</style>\n",
       "<table border=\"1\" class=\"dataframe\">\n",
       "  <thead>\n",
       "    <tr style=\"text-align: right;\">\n",
       "      <th></th>\n",
       "      <th>fi</th>\n",
       "      <th>h1</th>\n",
       "    </tr>\n",
       "    <tr>\n",
       "      <th>Categoría</th>\n",
       "      <th></th>\n",
       "      <th></th>\n",
       "    </tr>\n",
       "  </thead>\n",
       "  <tbody>\n",
       "    <tr>\n",
       "      <th>Acción y Aventura</th>\n",
       "      <td>856</td>\n",
       "      <td>12.06</td>\n",
       "    </tr>\n",
       "    <tr>\n",
       "      <th>Anime</th>\n",
       "      <td>173</td>\n",
       "      <td>2.44</td>\n",
       "    </tr>\n",
       "    <tr>\n",
       "      <th>Ciencia Ficción</th>\n",
       "      <td>14</td>\n",
       "      <td>0.20</td>\n",
       "    </tr>\n",
       "    <tr>\n",
       "      <th>Clásicos</th>\n",
       "      <td>100</td>\n",
       "      <td>1.41</td>\n",
       "    </tr>\n",
       "    <tr>\n",
       "      <th>Comedia</th>\n",
       "      <td>1266</td>\n",
       "      <td>17.84</td>\n",
       "    </tr>\n",
       "    <tr>\n",
       "      <th>Crimen</th>\n",
       "      <td>358</td>\n",
       "      <td>5.05</td>\n",
       "    </tr>\n",
       "    <tr>\n",
       "      <th>Documental</th>\n",
       "      <td>759</td>\n",
       "      <td>10.70</td>\n",
       "    </tr>\n",
       "    <tr>\n",
       "      <th>Docuseries</th>\n",
       "      <td>175</td>\n",
       "      <td>2.47</td>\n",
       "    </tr>\n",
       "    <tr>\n",
       "      <th>Dramas</th>\n",
       "      <td>1593</td>\n",
       "      <td>22.45</td>\n",
       "    </tr>\n",
       "    <tr>\n",
       "      <th>Horror</th>\n",
       "      <td>273</td>\n",
       "      <td>3.85</td>\n",
       "    </tr>\n",
       "    <tr>\n",
       "      <th>Musical</th>\n",
       "      <td>15</td>\n",
       "      <td>0.21</td>\n",
       "    </tr>\n",
       "    <tr>\n",
       "      <th>Niños</th>\n",
       "      <td>318</td>\n",
       "      <td>4.48</td>\n",
       "    </tr>\n",
       "    <tr>\n",
       "      <th>Películas</th>\n",
       "      <td>165</td>\n",
       "      <td>2.33</td>\n",
       "    </tr>\n",
       "    <tr>\n",
       "      <th>Películas familiares</th>\n",
       "      <td>500</td>\n",
       "      <td>7.05</td>\n",
       "    </tr>\n",
       "    <tr>\n",
       "      <th>Reality Show</th>\n",
       "      <td>99</td>\n",
       "      <td>1.40</td>\n",
       "    </tr>\n",
       "    <tr>\n",
       "      <th>Romántico</th>\n",
       "      <td>35</td>\n",
       "      <td>0.49</td>\n",
       "    </tr>\n",
       "    <tr>\n",
       "      <th>Stand-Up Comedy</th>\n",
       "      <td>334</td>\n",
       "      <td>4.71</td>\n",
       "    </tr>\n",
       "    <tr>\n",
       "      <th>Thrillers</th>\n",
       "      <td>62</td>\n",
       "      <td>0.87</td>\n",
       "    </tr>\n",
       "  </tbody>\n",
       "</table>\n",
       "</div>"
      ],
      "text/plain": [
       "                        fi     h1\n",
       "Categoría                        \n",
       "Acción y Aventura      856  12.06\n",
       "Anime                  173   2.44\n",
       "Ciencia Ficción         14   0.20\n",
       "Clásicos               100   1.41\n",
       "Comedia               1266  17.84\n",
       "Crimen                 358   5.05\n",
       "Documental             759  10.70\n",
       "Docuseries             175   2.47\n",
       "Dramas                1593  22.45\n",
       "Horror                 273   3.85\n",
       "Musical                 15   0.21\n",
       "Niños                  318   4.48\n",
       "Películas              165   2.33\n",
       "Películas familiares   500   7.05\n",
       "Reality Show            99   1.40\n",
       "Romántico               35   0.49\n",
       "Stand-Up Comedy        334   4.71\n",
       "Thrillers               62   0.87"
      ]
     },
     "execution_count": 12,
     "metadata": {},
     "output_type": "execute_result"
    }
   ],
   "source": [
    "netflix = pd.read_excel(\"Base_Netflix.xlsx\")\n",
    "Categoría = netflix['Categoría']\n",
    "##tabla=Categoría.value_counts()##Frecuencia absoluta\n",
    "##tabla=Categoría.value_counts(normalize=True)*100##Frecuencia relativa\n",
    "\n",
    "tabla=pd.DataFrame({}) ##Rescribe la frecuencia como un dataframe en blanco\n",
    "tabla.index=Categoría.value_counts().index\n",
    "tabla['fi']=Categoría.value_counts().values ##frecuencia absoluta\n",
    "tabla['h1']=(Categoría.value_counts(normalize=True).values*100).round(2) ## frecuencia relativa ;el round del final es para redondear\n",
    "tabla.sort_index(inplace=True) ##ordenar alfabeticamente\n",
    "\n",
    "tabla"
   ]
  },
  {
   "cell_type": "markdown",
   "metadata": {
    "id": "PJHxWHRatuCN"
   },
   "source": [
    "1. Defina la población y muestra."
   ]
  },
  {
   "cell_type": "code",
   "execution_count": null,
   "metadata": {},
   "outputs": [],
   "source": []
  },
  {
   "cell_type": "markdown",
   "metadata": {
    "id": "-o0vEZufLgeY"
   },
   "source": [
    "2. ¿Qué clasificación tiene la variable *Tipo*?"
   ]
  },
  {
   "cell_type": "markdown",
   "metadata": {
    "id": "JMum_Ii4kBuM"
   },
   "source": [
    "3. ¿Qué tipo de contenido es más frecuente en la plataforma: *Película* o *TV show* (series)?"
   ]
  },
  {
   "cell_type": "markdown",
   "metadata": {
    "id": "GUMBbs2pM41M"
   },
   "source": [
    "4. ¿Qué clasificación tiene la variable *Categoría*?"
   ]
  },
  {
   "cell_type": "markdown",
   "metadata": {
    "id": "cfUjItBKkKVv"
   },
   "source": [
    "5. ¿Cuál es la categoría de contenido más común? ¿A qué crees que se debe esto?"
   ]
  },
  {
   "cell_type": "markdown",
   "metadata": {
    "id": "-rXAMEZ9kQk1"
   },
   "source": [
    "6. Crea una tabla que contenga las frecuencias absolutas y relativas de la cantidad de títulos por categoría. Luego, interpreta la frecuencia relativa de las categorías *Documental* y *Comedia*, y responde ¿a qué razón atribuyes la diferencia entre los valores de las frecuencias?"
   ]
  },
  {
   "cell_type": "markdown",
   "metadata": {
    "id": "lrVkaikakaff"
   },
   "source": [
    "7. Construya una tabla de frecuencias absolutas y relativas de los 10 países con mayor cantidad de títulos, ¿es uniforme la presencia en la plataforma de estos 10 países? ¿Por qué piensas que ocurre lo anterior?"
   ]
  },
  {
   "cell_type": "markdown",
   "metadata": {
    "id": "1I3j1U6v48gh"
   },
   "source": [
    "## Actividad 2"
   ]
  },
  {
   "cell_type": "markdown",
   "metadata": {
    "id": "Rov2-I_k5FaV"
   },
   "source": [
    "La siguiente base de datos contiene información de estudiantes pertenecientes a un Instituto Profesional. Con el fin de tomar decisiones institucionales, como reforzar asignaturas o rediseñar horarios se registraron datos sobre su rendimiento académico, género, jornada y número de asignaturas reprobadas.\n",
    "\n",
    "Para responder las siguientes preguntas, descarga la base de datos **<a href=\"https://drive.google.com/uc?export=download&id=1Z2mrhxQnGgEfMqKrPyXBBPLnFPg52Woz\n",
    "\">aquí</a>**."
   ]
  },
  {
   "cell_type": "code",
   "execution_count": 16,
   "metadata": {},
   "outputs": [
    {
     "data": {
      "text/html": [
       "<div>\n",
       "<style scoped>\n",
       "    .dataframe tbody tr th:only-of-type {\n",
       "        vertical-align: middle;\n",
       "    }\n",
       "\n",
       "    .dataframe tbody tr th {\n",
       "        vertical-align: top;\n",
       "    }\n",
       "\n",
       "    .dataframe thead th {\n",
       "        text-align: right;\n",
       "    }\n",
       "</style>\n",
       "<table border=\"1\" class=\"dataframe\">\n",
       "  <thead>\n",
       "    <tr style=\"text-align: right;\">\n",
       "      <th></th>\n",
       "      <th>fi</th>\n",
       "      <th>hi</th>\n",
       "      <th>Fi</th>\n",
       "      <th>Hi</th>\n",
       "    </tr>\n",
       "    <tr>\n",
       "      <th>Asignaturas reprobadas</th>\n",
       "      <th></th>\n",
       "      <th></th>\n",
       "      <th></th>\n",
       "      <th></th>\n",
       "    </tr>\n",
       "  </thead>\n",
       "  <tbody>\n",
       "    <tr>\n",
       "      <th>0</th>\n",
       "      <td>81</td>\n",
       "      <td>8.1</td>\n",
       "      <td>81</td>\n",
       "      <td>8.1</td>\n",
       "    </tr>\n",
       "    <tr>\n",
       "      <th>1</th>\n",
       "      <td>200</td>\n",
       "      <td>20.0</td>\n",
       "      <td>281</td>\n",
       "      <td>28.1</td>\n",
       "    </tr>\n",
       "    <tr>\n",
       "      <th>2</th>\n",
       "      <td>211</td>\n",
       "      <td>21.1</td>\n",
       "      <td>492</td>\n",
       "      <td>49.2</td>\n",
       "    </tr>\n",
       "    <tr>\n",
       "      <th>3</th>\n",
       "      <td>199</td>\n",
       "      <td>19.9</td>\n",
       "      <td>691</td>\n",
       "      <td>69.1</td>\n",
       "    </tr>\n",
       "    <tr>\n",
       "      <th>4</th>\n",
       "      <td>209</td>\n",
       "      <td>20.9</td>\n",
       "      <td>900</td>\n",
       "      <td>90.0</td>\n",
       "    </tr>\n",
       "    <tr>\n",
       "      <th>5 o más</th>\n",
       "      <td>100</td>\n",
       "      <td>10.0</td>\n",
       "      <td>1000</td>\n",
       "      <td>100.0</td>\n",
       "    </tr>\n",
       "  </tbody>\n",
       "</table>\n",
       "</div>"
      ],
      "text/plain": [
       "                         fi    hi    Fi     Hi\n",
       "Asignaturas reprobadas                        \n",
       "0                        81   8.1    81    8.1\n",
       "1                       200  20.0   281   28.1\n",
       "2                       211  21.1   492   49.2\n",
       "3                       199  19.9   691   69.1\n",
       "4                       209  20.9   900   90.0\n",
       "5 o más                 100  10.0  1000  100.0"
      ]
     },
     "execution_count": 16,
     "metadata": {},
     "output_type": "execute_result"
    }
   ],
   "source": [
    "import pandas as pd\n",
    "calificaciones=pd.read_csv(\"Calificaciones.csv\")\n",
    "calificaciones\n",
    "\n",
    "reprobadas = calificaciones['Asignaturas reprobadas']\n",
    "\n",
    "tabla=pd.DataFrame({\n",
    "    'fi': reprobadas.value_counts().values, ##frecuencia absoluta\n",
    "    'hi': reprobadas.value_counts(normalize=True)*100, ##frecuencia relativa\n",
    "})\n",
    "tabla.index=reprobadas.value_counts().index\n",
    "tabla.sort_index(inplace=True)\n",
    "\n",
    "tabla['Fi']=tabla['fi'].cumsum() ##acumulable de la frecuencia absoluta\n",
    "tabla['Hi']=tabla['hi'].cumsum() ##acumulable de la frecuencia relativa\n",
    "tabla"
   ]
  },
  {
   "cell_type": "code",
   "execution_count": 19,
   "metadata": {},
   "outputs": [
    {
     "data": {
      "text/html": [
       "<div>\n",
       "<style scoped>\n",
       "    .dataframe tbody tr th:only-of-type {\n",
       "        vertical-align: middle;\n",
       "    }\n",
       "\n",
       "    .dataframe tbody tr th {\n",
       "        vertical-align: top;\n",
       "    }\n",
       "\n",
       "    .dataframe thead th {\n",
       "        text-align: right;\n",
       "    }\n",
       "</style>\n",
       "<table border=\"1\" class=\"dataframe\">\n",
       "  <thead>\n",
       "    <tr style=\"text-align: right;\">\n",
       "      <th></th>\n",
       "      <th>fi</th>\n",
       "      <th>hi</th>\n",
       "      <th>Fi</th>\n",
       "      <th>Hi</th>\n",
       "    </tr>\n",
       "    <tr>\n",
       "      <th>Asignaturas reprobadas</th>\n",
       "      <th></th>\n",
       "      <th></th>\n",
       "      <th></th>\n",
       "      <th></th>\n",
       "    </tr>\n",
       "  </thead>\n",
       "  <tbody>\n",
       "    <tr>\n",
       "      <th>0</th>\n",
       "      <td>81</td>\n",
       "      <td>8.1</td>\n",
       "      <td>81</td>\n",
       "      <td>8.1</td>\n",
       "    </tr>\n",
       "    <tr>\n",
       "      <th>1</th>\n",
       "      <td>200</td>\n",
       "      <td>20.0</td>\n",
       "      <td>281</td>\n",
       "      <td>28.1</td>\n",
       "    </tr>\n",
       "    <tr>\n",
       "      <th>2</th>\n",
       "      <td>211</td>\n",
       "      <td>21.1</td>\n",
       "      <td>492</td>\n",
       "      <td>49.2</td>\n",
       "    </tr>\n",
       "    <tr>\n",
       "      <th>3</th>\n",
       "      <td>199</td>\n",
       "      <td>19.9</td>\n",
       "      <td>691</td>\n",
       "      <td>69.1</td>\n",
       "    </tr>\n",
       "    <tr>\n",
       "      <th>4</th>\n",
       "      <td>209</td>\n",
       "      <td>20.9</td>\n",
       "      <td>900</td>\n",
       "      <td>90.0</td>\n",
       "    </tr>\n",
       "    <tr>\n",
       "      <th>5 o más</th>\n",
       "      <td>100</td>\n",
       "      <td>10.0</td>\n",
       "      <td>1000</td>\n",
       "      <td>100.0</td>\n",
       "    </tr>\n",
       "  </tbody>\n",
       "</table>\n",
       "</div>"
      ],
      "text/plain": [
       "                         fi    hi    Fi     Hi\n",
       "Asignaturas reprobadas                        \n",
       "0                        81   8.1    81    8.1\n",
       "1                       200  20.0   281   28.1\n",
       "2                       211  21.1   492   49.2\n",
       "3                       199  19.9   691   69.1\n",
       "4                       209  20.9   900   90.0\n",
       "5 o más                 100  10.0  1000  100.0"
      ]
     },
     "execution_count": 19,
     "metadata": {},
     "output_type": "execute_result"
    }
   ],
   "source": [
    "import pandas as pd\n",
    "calificaciones=pd.read_csv(\"Calificaciones.csv\")\n",
    "calificaciones\n",
    "\n",
    "tabla = reprobadas.value_counts()\n",
    "tabla=pd.DataFrame(tabla)\n",
    "tabla.sort_index(inplace=True)\n",
    "tabla.rename(columns={'count':'fi'}, inplace=True)\n",
    "tabla['hi']= tabla['fi']*100/tabla['fi'].sum()\n",
    "tabla['Fi']=tabla['fi'].cumsum()\n",
    "tabla['Hi']=tabla['hi'].cumsum()\n",
    "tabla"
   ]
  },
  {
   "cell_type": "markdown",
   "metadata": {
    "id": "bWeeEEKa6KPj"
   },
   "source": [
    "1. Define la población y la muestra del estudio."
   ]
  },
  {
   "cell_type": "markdown",
   "metadata": {
    "id": "Eue6OZo8OoOl"
   },
   "source": [
    "2. ¿Cuál es la clasificación de las variables presentes en el estudio?"
   ]
  },
  {
   "cell_type": "markdown",
   "metadata": {
    "id": "qgHIubkB6O7G"
   },
   "source": [
    "3. ¿Cuál es el género más común entre los estudiantes? ¿Qué porcentaje representa?"
   ]
  },
  {
   "cell_type": "markdown",
   "metadata": {
    "id": "zKCEdbZG6RFE"
   },
   "source": [
    "4. ¿Qué jornada tiene mayor representación en la muestra? ¿Hay alguna diferencia relevante entre el porcentaje de estudiantes que pertenece a cada una?"
   ]
  },
  {
   "cell_type": "markdown",
   "metadata": {
    "id": "7BZlt2dR6ehR"
   },
   "source": [
    "5. Realiza una tabla de frecuencias para la variable Asignaturas reprobadas. La tabla debe mostrar las frecuencias puntuales y acumuladas, luego responde las siguientes preguntas:"
   ]
  },
  {
   "cell_type": "markdown",
   "metadata": {
    "id": "MmHowsKJ6ysH"
   },
   "source": [
    "  $\\hspace{1cm}$ 5.1 ¿Cuál es la cantidad más común de asignaturas reprobadas?"
   ]
  },
  {
   "cell_type": "markdown",
   "metadata": {
    "id": "nBfmU9Nr60tv"
   },
   "source": [
    "$\\hspace{1cm}$ 5.2. ¿Qué porcentaje de estudiantes ha reprobado 3 asignaturas o menos?"
   ]
  },
  {
   "cell_type": "markdown",
   "metadata": {
    "id": "oB1SF5Kd68fN"
   },
   "source": [
    "$\\hspace{1cm}$ 5.3. Interpreta las siguientes frecuencias:\n",
    "\n",
    "$\\hspace{1cm}$ $F_{3}$:\n",
    "\n",
    "$\\hspace{1cm}$ $f_{1}$:\n",
    "\n",
    "$\\hspace{1cm}$ $H_{5}$:\n",
    "\n",
    "$\\hspace{1cm}$ $h_{2}$:"
   ]
  },
  {
   "cell_type": "markdown",
   "metadata": {
    "id": "UuQr4u5RQT4l"
   },
   "source": [
    "## Actividad 3"
   ]
  },
  {
   "cell_type": "markdown",
   "metadata": {
    "id": "N8MCBVdd9ULi"
   },
   "source": [
    "La base de datos utilizada en esta actividad corresponde al Informe Mundial de la Felicidad publicado por la ONU del año 2024. Contiene información de 140 países y evalúa el nivel de felicidad de sus habitantes en una escala continua (de 0 a 10), así como otros indicadores como el PIB per cápita, apoyo social, esperanza de vida saludable, percepción de corrupción y libertad para tomar decisiones de vida.\n",
    "\n",
    "Para responder las siguientes preguntas, descarga la base de datos **<a href=\"https://drive.google.com/uc?export=download&id=1bKzL1MFdbfXMy9aYpGNt-SXlTrxEEL_9\n",
    "\">aquí</a>**.\n",
    "\n",
    "*Log PIB per cápita, corresponde al logaritmo del Producto Interno Bruto per cápita. Esta transformación se usa para reducir la asimetría de la distribución del PIB per cápita y facilitar comparaciones cuando hay grandes diferencias entre países.*\n"
   ]
  },
  {
   "cell_type": "code",
   "execution_count": null,
   "metadata": {},
   "outputs": [],
   "source": []
  },
  {
   "cell_type": "markdown",
   "metadata": {
    "id": "JmqUSobF9_ka"
   },
   "source": [
    "1. Define la población y muestra del estudio."
   ]
  },
  {
   "cell_type": "markdown",
   "metadata": {
    "id": "hjYnL6tESGDB"
   },
   "source": [
    "2. ¿Cuál es la clasificación de la variable *Puntaje de felicidad*?"
   ]
  },
  {
   "cell_type": "markdown",
   "metadata": {
    "id": "66HgR_Ou-DBx"
   },
   "source": [
    "3. Crea una tabla de frecuencias puntuales y acumuladas utilizando la variable *Puntaje de felicidad*. Considera crear la tabla de frecuencias con 8 intervalos."
   ]
  },
  {
   "cell_type": "markdown",
   "metadata": {
    "id": "UyOIB9_wNoYF"
   },
   "source": [
    "4. Interpreta las siguientes frecuencias:\n",
    "\n",
    "$\\hspace{1cm}$ $f_{3}$:\n",
    "\n",
    "$\\hspace{1cm}$ $F_{5}$:\n",
    "\n",
    "$\\hspace{1cm}$ $h_{4}$:\n",
    "\n",
    "$\\hspace{1cm}$ $H_{6}$:"
   ]
  },
  {
   "cell_type": "markdown",
   "metadata": {
    "id": "KH2yXEwv-f7a"
   },
   "source": [
    "5. ¿Qué puedes concluir sobre la concentración de países según su nivel de felicidad? Para responder considera las siguientes categorías de nivel de felicidad:\n",
    "\n",
    "* Baja: (1,70; 3,23]\n",
    "* Media: (3,23; 4,73]\n",
    "* Media-alta: (4,73; 6,24]\n",
    "* Alta: (6,24; 7,74]"
   ]
  },
  {
   "cell_type": "markdown",
   "metadata": {
    "id": "4OqPp7JsH2Nh"
   },
   "source": [
    "6. ¿Cómo se distribuyen los países según su PIB per cápita? Construye una tabla de frecuencias considerando 8 intervalos."
   ]
  },
  {
   "cell_type": "markdown",
   "metadata": {
    "id": "nQjG4L2XtOdc"
   },
   "source": [
    "7. Considera las siguientes categorías de nivel de PIB per cápita:\n",
    "* Baja: (-0,0121; 0,54]\n",
    "* Media: (0,54; 1,07]\n",
    "* Media-alta: (1,07; 1,61]\n",
    "* Alta: (1,61; 2,14]\n",
    "\n",
    "Con base en la tabla de frecuencias del inciso anterior, ¿en qué categoría se concentra la mayoría de los países y qué conclusiones puedes extraer sobre su desarrollo económico?"
   ]
  },
  {
   "cell_type": "markdown",
   "metadata": {
    "id": "-Dr4p2W6-0Nm"
   },
   "source": [
    "8. En el siguiente gráfico se representa la relación entre el logaritmo del PIB per cápita y el puntaje de felicidad, donde cada punto corresponde a un país. ¿Qué ocurre con los países que tienen menor valor de logaritmo del PIB per capita? ¿Y con los que tienen un mayor valor? ¿Observas alguna tendencia?\n",
    "\n",
    "<img src = \"https://i.ibb.co/WNw0PtRf/Captura-de-pantalla-2025-07-22-102447.png\" width = \"800\"/>"
   ]
  },
  {
   "cell_type": "markdown",
   "metadata": {
    "id": "ke3TY8E1QkCg"
   },
   "source": [
    "## Actividad 4"
   ]
  },
  {
   "cell_type": "markdown",
   "metadata": {
    "id": "c9p56uvMI8Cm"
   },
   "source": [
    "Para describir un conjunto de llamadas telefónicas se trabajará con una base de datos que contiene información del tiempo de duración y destino de 250  llamadas realizadas a algún país de América del Norte.\n",
    "\n",
    "Descarga la base de datos **<a href=\"https://docs.google.com/spreadsheets/d/1KtiWhqgBecg_sKsGur_OCog5a0sU69NQ/export?format=xlsx\n",
    "\">aquí</a>**.\n"
   ]
  },
  {
   "cell_type": "markdown",
   "metadata": {
    "id": "OkpEiSTqJ82-"
   },
   "source": [
    "1. Define la población y la muestra del estudio."
   ]
  },
  {
   "cell_type": "markdown",
   "metadata": {
    "id": "vcxyMBeRyq34"
   },
   "source": [
    "2. Muestra las tres primeras filas y tres últimas filas de DataFrame."
   ]
  },
  {
   "cell_type": "markdown",
   "metadata": {
    "id": "eRuEDF9nKD5E"
   },
   "source": [
    "3. Clasifica las variables relevantes en el estudio."
   ]
  },
  {
   "cell_type": "markdown",
   "metadata": {
    "id": "H3hG3vZeKQC1"
   },
   "source": [
    "4. Construye una tabla de distribución de frecuencias para la variable tiempo de duración de las llamadas considerando frecuencias puntuales y acumuladas. Para la construcción de la tabla considera 9 intervalos."
   ]
  },
  {
   "cell_type": "markdown",
   "metadata": {
    "id": "yNjR6FZnK6Aw"
   },
   "source": [
    "5. A partir de la pregunta anterior, interpreta las siguientes frecuencias:\n",
    "\n",
    "$\\hspace{1cm}$ $f_{6}$:\n",
    "\n",
    "$\\hspace{1cm}$ $h_{2}$:\n",
    "\n",
    "$\\hspace{1cm}$ $F_{4}$:\n",
    "\n",
    "$\\hspace{1cm}$ $H_{3}$:"
   ]
  },
  {
   "cell_type": "markdown",
   "metadata": {
    "id": "KVCqofHKRVxp"
   },
   "source": [
    "## Actividad 5"
   ]
  },
  {
   "cell_type": "markdown",
   "metadata": {
    "id": "_B5yrNnKRmC6"
   },
   "source": [
    "A continuación, se presentan datos nacionales por comuna de la medición SIMCE de octavo básico rendida en el año 2015.\n",
    "\n",
    "Descarga la base de datos <a href=\"https://docs.google.com/spreadsheets/d/1fIGstVw-dQfA5WMq9mvhx3wVOHCXbrpj/export?format=xlsx\">aquí</a> y responde las siguientes preguntas:"
   ]
  },
  {
   "cell_type": "markdown",
   "metadata": {
    "id": "KhfKymwJR4Cq"
   },
   "source": [
    "1. Construye una tabla de distribución de frecuencias (absolutas y porcentuales incluyendo las acumuladas) que resuma los puntajes obtenidos en la prueba SIMCE de Matemática. Considera 9 intervalos para la construcción de la tabla.\n",
    "\n",
    "$\\hspace{1cm}$*Observaciones: Se debe escoger la variable prom_mate8b_com*"
   ]
  },
  {
   "cell_type": "markdown",
   "metadata": {
    "id": "Nji9BHSNVa-n"
   },
   "source": [
    "2. ¿Es correcto afirmar que los resultados de Matemática se concentran en los puntajes más bajos? Justifica tu respuesta."
   ]
  },
  {
   "cell_type": "markdown",
   "metadata": {
    "id": "vvIzPpjvVkEi"
   },
   "source": [
    "3.  Diseñe una tabla de frecuencias relativas que resuma la información de la cantidad de comunas por región. Realice observaciones de los datos de la tabla y construya una hipótesis al respecto."
   ]
  }
 ],
 "metadata": {
  "colab": {
   "collapsed_sections": [
    "YjIwdec0U9p8",
    "1I3j1U6v48gh",
    "UuQr4u5RQT4l",
    "ke3TY8E1QkCg",
    "KVCqofHKRVxp"
   ],
   "provenance": [
    {
     "file_id": "1MgmRjFpo85TnfwKBlb3bmPT3qZ7OYS9r",
     "timestamp": 1747698835662
    }
   ]
  },
  "kernelspec": {
   "display_name": "Python 3",
   "language": "python",
   "name": "python3"
  },
  "language_info": {
   "codemirror_mode": {
    "name": "ipython",
    "version": 3
   },
   "file_extension": ".py",
   "mimetype": "text/x-python",
   "name": "python",
   "nbconvert_exporter": "python",
   "pygments_lexer": "ipython3",
   "version": "3.12.5"
  }
 },
 "nbformat": 4,
 "nbformat_minor": 0
}
